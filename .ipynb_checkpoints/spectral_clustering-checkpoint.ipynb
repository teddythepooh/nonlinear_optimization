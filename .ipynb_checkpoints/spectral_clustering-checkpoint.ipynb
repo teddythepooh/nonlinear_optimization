{
 "cells": [
  {
   "cell_type": "markdown",
   "metadata": {},
   "source": [
    "### Spectral Clustering"
   ]
  },
  {
   "cell_type": "code",
   "execution_count": 2,
   "metadata": {},
   "outputs": [],
   "source": [
    "import pandas as pd\n",
    "import numpy as np\n",
    "import matplotlib.pyplot as plt\n",
    "import seaborn as sns\n",
    "\n",
    "from sklearn.cluster import SpectralClustering, KMeans\n",
    "from sklearn.neighbors import kneighbors_graph\n",
    "from scipy import sparse, linalg"
   ]
  },
  {
   "cell_type": "code",
   "execution_count": 3,
   "metadata": {},
   "outputs": [
    {
     "data": {
      "text/plain": [
       "array([[3.48000e-01, 5.91000e-01, 7.18000e-01, ..., 3.68000e-02,\n",
       "        1.17995e+02, 4.68000e-01],\n",
       "       [1.33000e-01, 5.68000e-01, 6.86000e-01, ..., 9.03000e-02,\n",
       "        1.48294e+02, 4.00000e-01],\n",
       "       [6.48000e-01, 6.00000e-01, 5.35000e-01, ..., 1.07000e-01,\n",
       "        7.19120e+01, 2.69000e-01],\n",
       "       ...,\n",
       "       [3.57000e-01, 7.69000e-01, 9.62000e-01, ..., 6.91000e-02,\n",
       "        1.07008e+02, 7.08000e-01],\n",
       "       [1.41000e-01, 7.76000e-01, 9.32000e-01, ..., 1.23000e-01,\n",
       "        1.04988e+02, 7.75000e-01],\n",
       "       [1.85000e-01, 8.17000e-01, 9.50000e-01, ..., 4.58000e-02,\n",
       "        1.33041e+02, 9.70000e-01]])"
      ]
     },
     "execution_count": 3,
     "metadata": {},
     "output_type": "execute_result"
    }
   ],
   "source": [
    "data_unstructured = pd.read_csv(\"data\\spotify.csv\") \n",
    "data_unstructured = data_unstructured.iloc[:,1:]\n",
    "relevant_columns = [\"track_name\",\"genre\",\n",
    "                    \"acousticness\",\"danceability\",\"energy\",\"instrumentalness\",\n",
    "                    \"liveness\",\"loudness\",\"speechiness\",\"tempo\",\"valence\"]\n",
    "data = data_unstructured.loc[:, relevant_columns]\n",
    "data = data[data[\"genre\"] != \"Gaming\"]\n",
    "data[\"genre\"].replace({\"K-pop\": \"Pop\",\"reggae\": \"Reggae\"}, inplace = True)\n",
    "\n",
    "X = data[[\"acousticness\",\"danceability\",\"energy\",\"instrumentalness\",\n",
    "          \"liveness\",\"loudness\",\"speechiness\",\"tempo\",\"valence\"]].to_numpy()\n",
    "\n",
    "X"
   ]
  },
  {
   "cell_type": "code",
   "execution_count": null,
   "metadata": {},
   "outputs": [],
   "source": [
    "#https://juanitorduz.github.io/spectral_clustering/\n",
    "def generate_graph_laplacian(df, nn):\n",
    "    \"\"\"Generate graph Laplacian from data.\"\"\"\n",
    "    # Adjacency Matrix.\n",
    "    connectivity = kneighbors_graph(X=df, n_neighbors=nn, mode='connectivity')\n",
    "    adjacency_matrix_s = (1/2)*(connectivity + connectivity.T)\n",
    "    # Graph Laplacian.\n",
    "    graph_laplacian_s = sparse.csgraph.laplacian(csgraph=adjacency_matrix_s, normed=False)\n",
    "    graph_laplacian = graph_laplacian_s.toarray()\n",
    "    return graph_laplacian \n",
    "\n",
    "def compute_spectrum_graph_laplacian(graph_laplacian):\n",
    "    \"\"\"Compute eigenvalues and eigenvectors and project \n",
    "    them onto the real numbers.\n",
    "    \"\"\"\n",
    "    eigenvals, eigenvcts = linalg.eig(graph_laplacian)\n",
    "    eigenvals = np.real(eigenvals)\n",
    "    eigenvcts = np.real(eigenvcts)\n",
    "    return eigenvals, eigenvcts\n",
    "\n",
    "def project_and_transpose(eigenvals, eigenvcts, num_ev):\n",
    "    \"\"\"Select the eigenvectors corresponding to the first \n",
    "    (sorted) num_ev eigenvalues as columns in a data frame.\n",
    "    \"\"\"\n",
    "    eigenvals_sorted_indices = np.argsort(eigenvals)\n",
    "    indices = eigenvals_sorted_indices[: num_ev]\n",
    "\n",
    "    proj_df = pd.DataFrame(eigenvcts[:, indices.squeeze()])\n",
    "    proj_df.columns = ['v_' + str(c) for c in proj_df.columns]\n",
    "    return proj_df\n",
    "    \n",
    "def run_k_means(df, n_clusters):\n",
    "    \"\"\"K-means clustering.\"\"\"\n",
    "    k_means = KMeans(random_state=25, n_clusters=n_clusters)\n",
    "    k_means.fit(df)\n",
    "    cluster = k_means.predict(df)\n",
    "    return cluster\n",
    "\n",
    "def spectral_clustering(df, n_neighbors, n_clusters):\n",
    "    \"\"\"Spectral Clustering Algorithm.\"\"\"\n",
    "    graph_laplacian = generate_graph_laplacian(df, n_neighbors)\n",
    "    eigenvals, eigenvcts = compute_spectrum_graph_laplacian(graph_laplacian)\n",
    "    proj_df = project_and_transpose(eigenvals, eigenvcts, n_clusters)\n",
    "    cluster = run_k_means(proj_df, proj_df.columns.size)\n",
    "    return ['c_' + str(c) for c in cluster]"
   ]
  },
  {
   "cell_type": "code",
   "execution_count": null,
   "metadata": {},
   "outputs": [],
   "source": [
    "data[\"cluster\"] = spectral_clustering(X, 500, 4)\n",
    "data[\"cluster\"].replace([\"c_0\", \"c_1\", \"c_2\", \"c_3\"], [\"Cluster 1\", \"Cluster 2\", \"Cluster 3\", \"Cluster 4\"], inplace = True)"
   ]
  },
  {
   "cell_type": "code",
   "execution_count": null,
   "metadata": {},
   "outputs": [],
   "source": [
    "#2D cross-section between valence and danceability\n",
    "\n",
    "fig, [first, second] = plt.subplots(figsize = (15, 5), ncols = 2)\n",
    "\n",
    "#True Labels\n",
    "sns.scatterplot(x = \"valence\", y = \"danceability\",  hue = \"genre\", alpha = 0.60,\n",
    "                data = data, ax = first)\n",
    "first.set_title(\"True Song Labels Based on Valence and Danceability\");\n",
    "first.set_xlabel(\"Valence (overall positiveness of a song)\", size = 12, weight = \"bold\");\n",
    "first.set_ylabel(\"Danceability\", size = 12, weight = \"bold\");\n",
    "\n",
    "#Cluster Assignments\n",
    "sns.scatterplot(x = \"valence\", y = \"danceability\",  hue = \"cluster\", alpha = 0.60,\n",
    "                data = data, ax = second)\n",
    "second.set_title(\"Spectral Clustering\");\n",
    "second.set_xlabel(\"Valence (overall positiveness of a song)\", size = 12, weight = \"bold\");\n",
    "second.set_ylabel(\"Danceability\", size = 12, weight = \"bold\");\n",
    "handles, labels  =  second.get_legend_handles_labels()\n",
    "second.legend(handles, [\"Cluster 1\", \"Cluster 2\", \"Cluster 3\", \"Cluster 4\"]);"
   ]
  },
  {
   "cell_type": "code",
   "execution_count": null,
   "metadata": {},
   "outputs": [],
   "source": [
    "#2D cross-section between loudness and energy\n",
    "\n",
    "fig, [first, second] = plt.subplots(figsize = (15, 5), ncols = 2)\n",
    "\n",
    "#True Labels\n",
    "sns.scatterplot(x = \"loudness\", y = \"energy\",  hue = \"genre\", alpha = 0.60,\n",
    "                data = data, ax = first)\n",
    "first.set_title(\"True Song Labels Based on Loudness and Energy\");\n",
    "first.set_xlabel(\"Loudness\", size = 12, weight = \"bold\");\n",
    "first.set_ylabel(\"Energy\", size = 12, weight = \"bold\");\n",
    "\n",
    "#Cluster Assignments\n",
    "sns.scatterplot(x = \"loudness\", y = \"energy\",  hue = \"cluster\", alpha = 0.60,\n",
    "                data = data, ax = second)\n",
    "second.set_title(\"Spectral Clustering\");2\n",
    "second.set_xlabel(\"Loudness\", size = 12, weight = \"bold\");\n",
    "second.set_ylabel(\"Energy\", size = 12, weight = \"bold\");\n",
    "handles, labels  =  second.get_legend_handles_labels()\n",
    "second.legend(handles, [\"Cluster 1\", \"Cluster 2\", \"Cluster 3\", \"Cluster 4\"]);"
   ]
  }
 ],
 "metadata": {
  "kernelspec": {
   "display_name": "Python 3",
   "language": "python",
   "name": "python3"
  },
  "language_info": {
   "codemirror_mode": {
    "name": "ipython",
    "version": 3
   },
   "file_extension": ".py",
   "mimetype": "text/x-python",
   "name": "python",
   "nbconvert_exporter": "python",
   "pygments_lexer": "ipython3",
   "version": "3.7.6"
  }
 },
 "nbformat": 4,
 "nbformat_minor": 4
}
