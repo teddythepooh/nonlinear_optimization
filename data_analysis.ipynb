{
 "cells": [
  {
   "cell_type": "markdown",
   "metadata": {},
   "source": [
    "### Data Analysis"
   ]
  },
  {
   "cell_type": "code",
   "execution_count": 2,
   "metadata": {},
   "outputs": [],
   "source": [
    "options(warn=-1)\n",
    "suppressWarnings({\n",
    "    libs <- c(\"tidyverse\")\n",
    "load.libs <- function(x){\n",
    "  for(i in x){\n",
    "    if(!require(i,character.only = TRUE )){\n",
    "      install.packages(i,dependencies = TRUE )\n",
    "      library(i,character.only = TRUE )\n",
    "    }\n",
    "  }\n",
    "}\n",
    "load.libs(libs)\n",
    "})"
   ]
  },
  {
   "cell_type": "code",
   "execution_count": 3,
   "metadata": {},
   "outputs": [
    {
     "data": {
      "text/html": [
       "<table>\n",
       "<thead><tr><th scope=col>X</th><th scope=col>track_name</th><th scope=col>genre</th><th scope=col>acousticness</th><th scope=col>danceability</th><th scope=col>energy</th><th scope=col>instrumentalness</th><th scope=col>liveness</th><th scope=col>loudness</th><th scope=col>speechiness</th><th scope=col>tempo</th><th scope=col>valence</th><th scope=col>cluster</th></tr></thead>\n",
       "<tbody>\n",
       "\t<tr><td>0                                   </td><td>Apologize                           </td><td>Pop                                 </td><td>0.348                               </td><td>0.591                               </td><td>0.718                               </td><td>1.18e-04                            </td><td>0.107                               </td><td>-6.025                              </td><td>0.0368                              </td><td>117.995                             </td><td>0.4680                              </td><td>Cluster 1                           </td></tr>\n",
       "\t<tr><td>1                                   </td><td>Mercy                               </td><td>Pop                                 </td><td>0.133                               </td><td>0.568                               </td><td>0.686                               </td><td>0.00e+00                            </td><td>0.110                               </td><td>-4.901                              </td><td>0.0903                              </td><td>148.294                             </td><td>0.4000                              </td><td>Cluster 3                           </td></tr>\n",
       "\t<tr><td>2                                   </td><td>1950                                </td><td>Pop                                 </td><td>0.648                               </td><td>0.600                               </td><td>0.535                               </td><td>4.70e-06                            </td><td>0.162                               </td><td>-7.043                              </td><td>0.1070                              </td><td> 71.912                             </td><td>0.2690                              </td><td>Cluster 4                           </td></tr>\n",
       "\t<tr><td>3                                       </td><td>Perfect Duet (Ed Sheeran &amp; BeyoncÃ©)</td><td>Pop                                     </td><td>0.779                                   </td><td>0.587                                   </td><td>0.299                                   </td><td>0.00e+00                                </td><td>0.123                                   </td><td>-7.365                                  </td><td>0.0263                                  </td><td> 94.992                                 </td><td>0.3560                                  </td><td>Cluster 2                               </td></tr>\n",
       "\t<tr><td>4                                   </td><td>Stay With Me                        </td><td>Pop                                 </td><td>0.568                               </td><td>0.479                               </td><td>0.419                               </td><td>2.17e-04                            </td><td>0.110                               </td><td>-6.517                              </td><td>0.0389                              </td><td> 85.014                             </td><td>0.1860                              </td><td>Cluster 4                           </td></tr>\n",
       "\t<tr><td>5                                   </td><td>Nevermind                           </td><td>Pop                                 </td><td>0.159                               </td><td>0.601                               </td><td>0.688                               </td><td>1.29e-05                            </td><td>0.414                               </td><td>-8.374                              </td><td>0.2020                              </td><td> 99.933                             </td><td>0.0793                              </td><td>Cluster 2                           </td></tr>\n",
       "</tbody>\n",
       "</table>\n"
      ],
      "text/latex": [
       "\\begin{tabular}{r|lllllllllllll}\n",
       " X & track\\_name & genre & acousticness & danceability & energy & instrumentalness & liveness & loudness & speechiness & tempo & valence & cluster\\\\\n",
       "\\hline\n",
       "\t 0                                    & Apologize                            & Pop                                  & 0.348                                & 0.591                                & 0.718                                & 1.18e-04                             & 0.107                                & -6.025                               & 0.0368                               & 117.995                              & 0.4680                               & Cluster 1                           \\\\\n",
       "\t 1                                    & Mercy                                & Pop                                  & 0.133                                & 0.568                                & 0.686                                & 0.00e+00                             & 0.110                                & -4.901                               & 0.0903                               & 148.294                              & 0.4000                               & Cluster 3                           \\\\\n",
       "\t 2                                    & 1950                                 & Pop                                  & 0.648                                & 0.600                                & 0.535                                & 4.70e-06                             & 0.162                                & -7.043                               & 0.1070                               &  71.912                              & 0.2690                               & Cluster 4                           \\\\\n",
       "\t 3                                      & Perfect Duet (Ed Sheeran \\& BeyoncÃ©) & Pop                                    & 0.779                                  & 0.587                                  & 0.299                                  & 0.00e+00                               & 0.123                                  & -7.365                                 & 0.0263                                 &  94.992                                & 0.3560                                 & Cluster 2                             \\\\\n",
       "\t 4                                    & Stay With Me                         & Pop                                  & 0.568                                & 0.479                                & 0.419                                & 2.17e-04                             & 0.110                                & -6.517                               & 0.0389                               &  85.014                              & 0.1860                               & Cluster 4                           \\\\\n",
       "\t 5                                    & Nevermind                            & Pop                                  & 0.159                                & 0.601                                & 0.688                                & 1.29e-05                             & 0.414                                & -8.374                               & 0.2020                               &  99.933                              & 0.0793                               & Cluster 2                           \\\\\n",
       "\\end{tabular}\n"
      ],
      "text/markdown": [
       "\n",
       "| X | track_name | genre | acousticness | danceability | energy | instrumentalness | liveness | loudness | speechiness | tempo | valence | cluster |\n",
       "|---|---|---|---|---|---|---|---|---|---|---|---|---|\n",
       "| 0                                    | Apologize                            | Pop                                  | 0.348                                | 0.591                                | 0.718                                | 1.18e-04                             | 0.107                                | -6.025                               | 0.0368                               | 117.995                              | 0.4680                               | Cluster 1                            |\n",
       "| 1                                    | Mercy                                | Pop                                  | 0.133                                | 0.568                                | 0.686                                | 0.00e+00                             | 0.110                                | -4.901                               | 0.0903                               | 148.294                              | 0.4000                               | Cluster 3                            |\n",
       "| 2                                    | 1950                                 | Pop                                  | 0.648                                | 0.600                                | 0.535                                | 4.70e-06                             | 0.162                                | -7.043                               | 0.1070                               |  71.912                              | 0.2690                               | Cluster 4                            |\n",
       "| 3                                    | Perfect Duet (Ed Sheeran & BeyoncÃ©) | Pop                                  | 0.779                                | 0.587                                | 0.299                                | 0.00e+00                             | 0.123                                | -7.365                               | 0.0263                               |  94.992                              | 0.3560                               | Cluster 2                            |\n",
       "| 4                                    | Stay With Me                         | Pop                                  | 0.568                                | 0.479                                | 0.419                                | 2.17e-04                             | 0.110                                | -6.517                               | 0.0389                               |  85.014                              | 0.1860                               | Cluster 4                            |\n",
       "| 5                                    | Nevermind                            | Pop                                  | 0.159                                | 0.601                                | 0.688                                | 1.29e-05                             | 0.414                                | -8.374                               | 0.2020                               |  99.933                              | 0.0793                               | Cluster 2                            |\n",
       "\n"
      ],
      "text/plain": [
       "  X track_name                           genre acousticness danceability energy\n",
       "1 0 Apologize                            Pop   0.348        0.591        0.718 \n",
       "2 1 Mercy                                Pop   0.133        0.568        0.686 \n",
       "3 2 1950                                 Pop   0.648        0.600        0.535 \n",
       "4 3 Perfect Duet (Ed Sheeran & BeyoncÃ©) Pop   0.779        0.587        0.299 \n",
       "5 4 Stay With Me                         Pop   0.568        0.479        0.419 \n",
       "6 5 Nevermind                            Pop   0.159        0.601        0.688 \n",
       "  instrumentalness liveness loudness speechiness tempo   valence cluster  \n",
       "1 1.18e-04         0.107    -6.025   0.0368      117.995 0.4680  Cluster 1\n",
       "2 0.00e+00         0.110    -4.901   0.0903      148.294 0.4000  Cluster 3\n",
       "3 4.70e-06         0.162    -7.043   0.1070       71.912 0.2690  Cluster 4\n",
       "4 0.00e+00         0.123    -7.365   0.0263       94.992 0.3560  Cluster 2\n",
       "5 2.17e-04         0.110    -6.517   0.0389       85.014 0.1860  Cluster 4\n",
       "6 1.29e-05         0.414    -8.374   0.2020       99.933 0.0793  Cluster 2"
      ]
     },
     "metadata": {},
     "output_type": "display_data"
    }
   ],
   "source": [
    "data<-read.csv(\"data/clustered_data.csv\", header = T)\n",
    "head(data)"
   ]
  },
  {
   "cell_type": "code",
   "execution_count": 4,
   "metadata": {},
   "outputs": [
    {
     "data": {
      "image/png": "[encoded data removed]",
      "text/plain": [
       "plot without title"
      ]
     },
     "metadata": {},
     "output_type": "display_data"
    }
   ],
   "source": [
    "options(repr.plot.width = 10, repr.plot.height = 5)\n",
    "data%>%\n",
    "    ggplot()+\n",
    "    geom_bar(aes(cluster,  group = genre, fill = genre), color = \"black\", position = \"fill\")+\n",
    "    coord_flip()+\n",
    "    theme_bw()+\n",
    "    labs(x = \"Cluster\", y = \"Proportion\")+\n",
    "    theme(legend.title = element_blank(),\n",
    "          legend.position = \"bottom\")+\n",
    "    guides(fill = guide_legend(nrow = 1))"
   ]
  },
  {
   "cell_type": "code",
   "execution_count": 5,
   "metadata": {},
   "outputs": [
    {
     "data": {
      "text/html": [
       "<table>\n",
       "<thead><tr><th scope=col>cluster</th><th scope=col>acousticness</th><th scope=col>danceability</th><th scope=col>energy</th><th scope=col>instrumentalness</th><th scope=col>liveness</th><th scope=col>loudness</th><th scope=col>speechiness</th><th scope=col>tempo</th><th scope=col>valence</th></tr></thead>\n",
       "<tbody>\n",
       "\t<tr><td>Cluster 1</td><td>0.27     </td><td>0.63     </td><td>0.63     </td><td>0.13     </td><td>0.18     </td><td> -7.99   </td><td>0.07     </td><td>127.61   </td><td>0.53     </td></tr>\n",
       "\t<tr><td>Cluster 2</td><td>0.26     </td><td>0.66     </td><td>0.66     </td><td>0.11     </td><td>0.19     </td><td> -7.53   </td><td>0.11     </td><td> 99.57   </td><td>0.56     </td></tr>\n",
       "\t<tr><td>Cluster 3</td><td>0.23     </td><td>0.56     </td><td>0.67     </td><td>0.10     </td><td>0.19     </td><td> -7.25   </td><td>0.12     </td><td>160.85   </td><td>0.57     </td></tr>\n",
       "\t<tr><td>Cluster 4</td><td>0.41     </td><td>0.56     </td><td>0.50     </td><td>0.25     </td><td>0.17     </td><td>-10.16   </td><td>0.11     </td><td> 79.68   </td><td>0.49     </td></tr>\n",
       "</tbody>\n",
       "</table>\n"
      ],
      "text/latex": [
       "\\begin{tabular}{r|llllllllll}\n",
       " cluster & acousticness & danceability & energy & instrumentalness & liveness & loudness & speechiness & tempo & valence\\\\\n",
       "\\hline\n",
       "\t Cluster 1 & 0.27      & 0.63      & 0.63      & 0.13      & 0.18      &  -7.99    & 0.07      & 127.61    & 0.53     \\\\\n",
       "\t Cluster 2 & 0.26      & 0.66      & 0.66      & 0.11      & 0.19      &  -7.53    & 0.11      &  99.57    & 0.56     \\\\\n",
       "\t Cluster 3 & 0.23      & 0.56      & 0.67      & 0.10      & 0.19      &  -7.25    & 0.12      & 160.85    & 0.57     \\\\\n",
       "\t Cluster 4 & 0.41      & 0.56      & 0.50      & 0.25      & 0.17      & -10.16    & 0.11      &  79.68    & 0.49     \\\\\n",
       "\\end{tabular}\n"
      ],
      "text/markdown": [
       "\n",
       "| cluster | acousticness | danceability | energy | instrumentalness | liveness | loudness | speechiness | tempo | valence |\n",
       "|---|---|---|---|---|---|---|---|---|---|\n",
       "| Cluster 1 | 0.27      | 0.63      | 0.63      | 0.13      | 0.18      |  -7.99    | 0.07      | 127.61    | 0.53      |\n",
       "| Cluster 2 | 0.26      | 0.66      | 0.66      | 0.11      | 0.19      |  -7.53    | 0.11      |  99.57    | 0.56      |\n",
       "| Cluster 3 | 0.23      | 0.56      | 0.67      | 0.10      | 0.19      |  -7.25    | 0.12      | 160.85    | 0.57      |\n",
       "| Cluster 4 | 0.41      | 0.56      | 0.50      | 0.25      | 0.17      | -10.16    | 0.11      |  79.68    | 0.49      |\n",
       "\n"
      ],
      "text/plain": [
       "  cluster   acousticness danceability energy instrumentalness liveness loudness\n",
       "1 Cluster 1 0.27         0.63         0.63   0.13             0.18      -7.99  \n",
       "2 Cluster 2 0.26         0.66         0.66   0.11             0.19      -7.53  \n",
       "3 Cluster 3 0.23         0.56         0.67   0.10             0.19      -7.25  \n",
       "4 Cluster 4 0.41         0.56         0.50   0.25             0.17     -10.16  \n",
       "  speechiness tempo  valence\n",
       "1 0.07        127.61 0.53   \n",
       "2 0.11         99.57 0.56   \n",
       "3 0.12        160.85 0.57   \n",
       "4 0.11         79.68 0.49   "
      ]
     },
     "metadata": {},
     "output_type": "display_data"
    }
   ],
   "source": [
    "a<-data%>%\n",
    "    select(-c(\"X\", \"track_name\", \"genre\"))%>%\n",
    "    group_by(cluster)%>%\n",
    "    summarise_all(\"mean\")\n",
    "a[,-1]<-round(a[,-1],2)\n",
    "a"
   ]
  }
 ],
 "metadata": {
  "kernelspec": {
   "display_name": "R",
   "language": "R",
   "name": "ir"
  },
  "language_info": {
   "codemirror_mode": "r",
   "file_extension": ".r",
   "mimetype": "text/x-r-source",
   "name": "R",
   "pygments_lexer": "r",
   "version": "3.6.1"
  }
 },
 "nbformat": 4,
 "nbformat_minor": 4
}
